{
    "cells": [
        {
            "cell_type": "code",
            "execution_count": 7,
            "metadata": {},
            "outputs": [
                {
                    "name": "stdout",
                    "output_type": "stream",
                    "text": "Original Shape (180, 3)\n"
                },
                {
                    "data": {
                        "text/html": "<div>\n<style scoped>\n    .dataframe tbody tr th:only-of-type {\n        vertical-align: middle;\n    }\n\n    .dataframe tbody tr th {\n        vertical-align: top;\n    }\n\n    .dataframe thead th {\n        text-align: right;\n    }\n</style>\n<table border=\"1\" class=\"dataframe\">\n  <thead>\n    <tr style=\"text-align: right;\">\n      <th></th>\n      <th>Postal Code</th>\n      <th>Borough</th>\n      <th>Neighbourhood</th>\n    </tr>\n  </thead>\n  <tbody>\n    <tr>\n      <th>0</th>\n      <td>M1A</td>\n      <td>Not assigned</td>\n      <td>Not assigned</td>\n    </tr>\n    <tr>\n      <th>1</th>\n      <td>M2A</td>\n      <td>Not assigned</td>\n      <td>Not assigned</td>\n    </tr>\n    <tr>\n      <th>2</th>\n      <td>M3A</td>\n      <td>North York</td>\n      <td>Parkwoods</td>\n    </tr>\n    <tr>\n      <th>3</th>\n      <td>M4A</td>\n      <td>North York</td>\n      <td>Victoria Village</td>\n    </tr>\n    <tr>\n      <th>4</th>\n      <td>M5A</td>\n      <td>Downtown Toronto</td>\n      <td>Regent Park, Harbourfront</td>\n    </tr>\n  </tbody>\n</table>\n</div>",
                        "text/plain": "  Postal Code           Borough              Neighbourhood\n0         M1A      Not assigned               Not assigned\n1         M2A      Not assigned               Not assigned\n2         M3A        North York                  Parkwoods\n3         M4A        North York           Victoria Village\n4         M5A  Downtown Toronto  Regent Park, Harbourfront"
                    },
                    "execution_count": 7,
                    "metadata": {},
                    "output_type": "execute_result"
                }
            ],
            "source": "# Part 1\n#For this assignment, you will be required to explore and cluster the neighborhoods in Toronto.\n\n#Start by creating a new Notebook for this assignment.\n#Use the Notebook to build the code to scrape the following Wikipedia page, https://en.wikipedia.org/wiki/List_of_postal_codes_of_Canada:_M, in order to obtain the data that is in the table of postal codes and to transform the data into a pandas dataframe like the one shown below:\n\n# I pulled up the web page, highlighted the table, cut & pasted to Excel and saved to a csv file, \"Toronto.csv\".\n# I then imported the file into IBM Cloud Storage and used \"Insert to code\" function to create the following code:\n\n# Start of \"Insert to code segment\"\nimport types\nimport pandas as pd\nfrom botocore.client import Config\nimport ibm_boto3\n\ndef __iter__(self): return 0\n\n# The following code accesses a file in your IBM Cloud Object Storage. It includes your credentials.\n# You might want to remove those credentials before you share the notebook.\nclient_e4c63f1d09c549968caf743ebebfff9a = ibm_boto3.client(service_name='s3',\n    ibm_api_key_id='d73P9G0wt07N6duy6tsqsYmwESOQl5apjZcKB3bEct-2',\n    ibm_auth_endpoint=\"https://iam.cloud.ibm.com/oidc/token\",\n    config=Config(signature_version='oauth'),\n    endpoint_url='https://s3-api.us-geo.objectstorage.service.networklayer.com')\n\nbody = client_e4c63f1d09c549968caf743ebebfff9a.get_object(Bucket='segmentingandclusteringneighborho-donotdelete-pr-tbbplt7t0dhxdc',Key='Toronto.csv')['Body']\n# add missing __iter__ method, so pandas accepts body as file-like object\nif not hasattr(body, \"__iter__\"): body.__iter__ = types.MethodType( __iter__, body )\n# End of \"Insert to code segment\"\n    \ndf = pd.read_csv(body)\nprint(\"Original Shape\", df.shape)\n\n#Set width so output isn't split\npd.set_option('display.width', 150)\ndf.head()\n"
        },
        {
            "cell_type": "code",
            "execution_count": 8,
            "metadata": {},
            "outputs": [
                {
                    "name": "stdout",
                    "output_type": "stream",
                    "text": "0 remaining rows have Neighborhood = Not assigned\n\nThere are 0 duplicate rows in the dataframe\n\nFiltered Shape (103, 3) \n\n"
                },
                {
                    "data": {
                        "text/html": "<div>\n<style scoped>\n    .dataframe tbody tr th:only-of-type {\n        vertical-align: middle;\n    }\n\n    .dataframe tbody tr th {\n        vertical-align: top;\n    }\n\n    .dataframe thead th {\n        text-align: right;\n    }\n</style>\n<table border=\"1\" class=\"dataframe\">\n  <thead>\n    <tr style=\"text-align: right;\">\n      <th></th>\n      <th>Postal Code</th>\n      <th>Borough</th>\n      <th>Neighbourhood</th>\n    </tr>\n  </thead>\n  <tbody>\n    <tr>\n      <th>0</th>\n      <td>M3A</td>\n      <td>North York</td>\n      <td>Parkwoods</td>\n    </tr>\n    <tr>\n      <th>1</th>\n      <td>M4A</td>\n      <td>North York</td>\n      <td>Victoria Village</td>\n    </tr>\n    <tr>\n      <th>2</th>\n      <td>M5A</td>\n      <td>Downtown Toronto</td>\n      <td>Regent Park, Harbourfront</td>\n    </tr>\n    <tr>\n      <th>3</th>\n      <td>M6A</td>\n      <td>North York</td>\n      <td>Lawrence Manor, Lawrence Heights</td>\n    </tr>\n    <tr>\n      <th>4</th>\n      <td>M7A</td>\n      <td>Downtown Toronto</td>\n      <td>Queen's Park, Ontario Provincial Government</td>\n    </tr>\n  </tbody>\n</table>\n</div>",
                        "text/plain": "  Postal Code           Borough                                Neighbourhood\n0         M3A        North York                                    Parkwoods\n1         M4A        North York                             Victoria Village\n2         M5A  Downtown Toronto                    Regent Park, Harbourfront\n3         M6A        North York             Lawrence Manor, Lawrence Heights\n4         M7A  Downtown Toronto  Queen's Park, Ontario Provincial Government"
                    },
                    "execution_count": 8,
                    "metadata": {},
                    "output_type": "execute_result"
                }
            ],
            "source": "#Only process the cells that have an assigned borough. Ignore cells with a borough that is Not assigned.\ndf.drop(df.loc[df['Borough']=='Not assigned'].index, inplace=True)\n\n#If a cell has a borough but a Not assigned neighborhood, then the neighborhood will be the same as the borough.\nis_Notassigned =  df['Neighbourhood']=='Not assigned'\ndfNa = df[is_Notassigned]\ndfNa_count = dfNa.count\nif dfNa.empty:\n    print(\"0 remaining rows have Neighborhood = Not assigned\\n\")\nelse:\n    print(dfNa_count, \"remaining rows have Nieghborhood = Not assigned\\n\")\n    \n#There are no rows left where Neighbourhood is \"Not assigned\"\n\n#More than one neighborhood can exist in one postal code area. \n#Combine rows with the same postal code area into one row with the neighborhoods separated with a comma.\n#The Wikipedia page presented no such rows, looks like they had already been combined!\n#Just for yucks, I will check for duplicate rows based on the postal area code.\ndfDup = df[df.duplicated(['Postal Code'])]\nif dfDup.empty:\n    print(\"There are 0 duplicate rows in the dataframe\\n\")\nelse:\n    print(\"There are\", dfDup.count, \"duplicate rows in the dataframe\\n\")\nprint(\"Filtered Shape\", df.shape, \"\\n\")\n\ndf = df.reset_index()\ndel df['index']\ndf.head()"
        },
        {
            "cell_type": "code",
            "execution_count": 12,
            "metadata": {},
            "outputs": [
                {
                    "name": "stdout",
                    "output_type": "stream",
                    "text": "  Postal Code   Latitude  Longitude\n0         M1B  43.806686 -79.194353\n1         M1C  43.784535 -79.160497\n2         M1E  43.763573 -79.188711\n3         M1G  43.770992 -79.216917\n4         M1H  43.773136 -79.239476\n  Postal Code           Borough                                Neighbourhood   Latitude  Longitude\n0         M3A        North York                                    Parkwoods  43.753259 -79.329656\n1         M4A        North York                             Victoria Village  43.725882 -79.315572\n2         M5A  Downtown Toronto                    Regent Park, Harbourfront  43.654260 -79.360636\n3         M6A        North York             Lawrence Manor, Lawrence Heights  43.718518 -79.464763\n4         M7A  Downtown Toronto  Queen's Park, Ontario Provincial Government  43.662301 -79.389494\n(103, 5)\n"
                }
            ],
            "source": "# Part 2\n#Now that you have built a dataframe of the postal code of each neighborhood along with the borough name and neighborhood name, \n#in order to utilize the Foursquare location data, we need to get the latitude and the longitude coordinates of each neighborhood.\nimport pandas as pd\ndfCoord = pd.read_csv('http://cocl.us/Geospatial_data')\nprint(dfCoord.head())\ndf2 = pd.merge(df, dfCoord, on='Postal Code')\nprint(df2.head())\nprint(df2.shape)"
        },
        {
            "cell_type": "code",
            "execution_count": null,
            "metadata": {},
            "outputs": [],
            "source": ""
        }
    ],
    "metadata": {
        "kernelspec": {
            "display_name": "Python 3.6",
            "language": "python",
            "name": "python3"
        },
        "language_info": {
            "codemirror_mode": {
                "name": "ipython",
                "version": 3
            },
            "file_extension": ".py",
            "mimetype": "text/x-python",
            "name": "python",
            "nbconvert_exporter": "python",
            "pygments_lexer": "ipython3",
            "version": "3.6.9"
        }
    },
    "nbformat": 4,
    "nbformat_minor": 1
}